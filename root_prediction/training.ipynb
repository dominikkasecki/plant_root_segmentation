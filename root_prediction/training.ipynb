{
 "cells": [
  {
   "cell_type": "code",
   "execution_count": 2,
   "metadata": {},
   "outputs": [
    {
     "name": "stderr",
     "output_type": "stream",
     "text": [
      "2025-01-22 14:15:54.488362: E external/local_xla/xla/stream_executor/cuda/cuda_dnn.cc:9261] Unable to register cuDNN factory: Attempting to register factory for plugin cuDNN when one has already been registered\n",
      "2025-01-22 14:15:54.488404: E external/local_xla/xla/stream_executor/cuda/cuda_fft.cc:607] Unable to register cuFFT factory: Attempting to register factory for plugin cuFFT when one has already been registered\n",
      "2025-01-22 14:15:54.505863: E external/local_xla/xla/stream_executor/cuda/cuda_blas.cc:1515] Unable to register cuBLAS factory: Attempting to register factory for plugin cuBLAS when one has already been registered\n",
      "2025-01-22 14:15:54.548276: I tensorflow/core/platform/cpu_feature_guard.cc:182] This TensorFlow binary is optimized to use available CPU instructions in performance-critical operations.\n",
      "To enable the following instructions: AVX2 FMA, in other operations, rebuild TensorFlow with the appropriate compiler flags.\n"
     ]
    }
   ],
   "source": [
    "# import things\n",
    "import os\n",
    "import numpy as np\n",
    "import tensorflow as tf\n",
    "from tensorflow.keras.models import Model\n",
    "from tensorflow.keras.layers import Input, Conv2D, MaxPooling2D, UpSampling2D, concatenate, Dropout\n",
    "from tensorflow.keras.optimizers import Adam\n",
    "from tensorflow.keras.callbacks import EarlyStopping, ModelCheckpoint\n",
    "from tensorflow.keras import backend as K\n",
    "import matplotlib.pyplot as plt\n",
    "from tensorflow.keras.preprocessing.image import ImageDataGenerator\n",
    "import math\n"
   ]
  },
  {
   "cell_type": "code",
   "execution_count": 3,
   "metadata": {},
   "outputs": [
    {
     "name": "stdout",
     "output_type": "stream",
     "text": [
      "GPU found. Using GPU for training.\n"
     ]
    }
   ],
   "source": [
    "\n",
    "if tf.config.list_physical_devices('GPU'):\n",
    "    print(\"GPU found. Using GPU for training.\")\n",
    "    os.environ[\"CUDA_VISIBLE_DEVICES\"] = \"3\"  # Use GPU\n",
    "else:\n",
    "    print(\"No GPU found. Using CPU for training.\")\n",
    "    os.environ[\"CUDA_VISIBLE_DEVICES\"] = \"-1\"  # Use CPU"
   ]
  },
  {
   "cell_type": "code",
   "execution_count": 4,
   "metadata": {},
   "outputs": [
    {
     "name": "stdout",
     "output_type": "stream",
     "text": [
      "Wed Jan 22 14:15:57 2025       \n",
      "+-----------------------------------------------------------------------------------------+\n",
      "| NVIDIA-SMI 550.78                 Driver Version: 550.78         CUDA Version: 12.4     |\n",
      "|-----------------------------------------+------------------------+----------------------+\n",
      "| GPU  Name                 Persistence-M | Bus-Id          Disp.A | Volatile Uncorr. ECC |\n",
      "| Fan  Temp   Perf          Pwr:Usage/Cap |           Memory-Usage | GPU-Util  Compute M. |\n",
      "|                                         |                        |               MIG M. |\n",
      "|=========================================+========================+======================|\n",
      "|   0  NVIDIA RTX A6000               On  |   00000000:01:00.0 Off |                  Off |\n",
      "| 30%   33C    P8             24W /  300W |     930MiB /  49140MiB |      0%      Default |\n",
      "|                                         |                        |                  N/A |\n",
      "+-----------------------------------------+------------------------+----------------------+\n",
      "|   1  NVIDIA RTX A6000               On  |   00000000:25:00.0 Off |                  Off |\n",
      "| 30%   33C    P8             25W /  300W |     531MiB /  49140MiB |      0%      Default |\n",
      "|                                         |                        |                  N/A |\n",
      "+-----------------------------------------+------------------------+----------------------+\n",
      "|   2  NVIDIA RTX A6000               On  |   00000000:C1:00.0 Off |                  Off |\n",
      "| 30%   31C    P8             25W /  300W |     531MiB /  49140MiB |      0%      Default |\n",
      "|                                         |                        |                  N/A |\n",
      "+-----------------------------------------+------------------------+----------------------+\n",
      "|   3  NVIDIA RTX A6000               On  |   00000000:E1:00.0 Off |                  Off |\n",
      "| 30%   32C    P8             28W /  300W |     531MiB /  49140MiB |      0%      Default |\n",
      "|                                         |                        |                  N/A |\n",
      "+-----------------------------------------+------------------------+----------------------+\n",
      "                                                                                         \n",
      "+-----------------------------------------------------------------------------------------+\n",
      "| Processes:                                                                              |\n",
      "|  GPU   GI   CI        PID   Type   Process name                              GPU Memory |\n",
      "|        ID   ID                                                               Usage      |\n",
      "|=========================================================================================|\n",
      "+-----------------------------------------------------------------------------------------+\n"
     ]
    }
   ],
   "source": [
    "!nvidia-smi"
   ]
  },
  {
   "cell_type": "code",
   "execution_count": 5,
   "metadata": {},
   "outputs": [],
   "source": [
    "# REQUIREMENT: Do not add code from Tasks 2 or 4\n",
    "# REQUIREMENT: All dataset prep (crop/pad/patch/directory structure) must be finalize before attempting this task.\n",
    "patch_size = 128\n",
    "patch_dir = 'dataset'"
   ]
  },
  {
   "cell_type": "code",
   "execution_count": 6,
   "metadata": {},
   "outputs": [],
   "source": [
    "def f1(y_true, y_pred):\n",
    "    def recall_m(y_true, y_pred):\n",
    "        TP = K.sum(K.round(K.clip(y_true * y_pred, 0, 1)))\n",
    "        Positives = K.sum(K.round(K.clip(y_true, 0, 1)))\n",
    "        recall = TP / (Positives+K.epsilon())\n",
    "        return recall\n",
    "    \n",
    "    def precision_m(y_true, y_pred):\n",
    "        TP = K.sum(K.round(K.clip(y_true * y_pred, 0, 1)))\n",
    "        Pred_Positives = K.sum(K.round(K.clip(y_pred, 0, 1)))\n",
    "        precision = TP / (Pred_Positives+K.epsilon())\n",
    "        return precision\n",
    "    \n",
    "    precision, recall = precision_m(y_true, y_pred), recall_m(y_true, y_pred)\n",
    "    \n",
    "    return 2*((precision*recall)/(precision+recall+K.epsilon()))"
   ]
  },
  {
   "cell_type": "code",
   "execution_count": 7,
   "metadata": {},
   "outputs": [],
   "source": [
    "def simple_unet_model(img_height, img_width, img_channels):\n",
    "    \"\"\"Define the U-Net architecture.\"\"\"\n",
    "    inputs = Input((img_height, img_width, img_channels))\n",
    "\n",
    "    # Contracting path\n",
    "    c1 = Conv2D(64, (3, 3), activation='relu', padding='same', kernel_initializer='he_normal')(inputs)\n",
    "    c1 = Dropout(0.1)(c1)\n",
    "    c1 = Conv2D(64, (3, 3), activation='relu', padding='same', kernel_initializer='he_normal')(c1)\n",
    "    p1 = MaxPooling2D((2, 2))(c1)\n",
    "\n",
    "    c2 = Conv2D(128, (3, 3), activation='relu', padding='same', kernel_initializer='he_normal')(p1)\n",
    "    c2 = Dropout(0.1)(c2)\n",
    "    c2 = Conv2D(128, (3, 3), activation='relu', padding='same', kernel_initializer='he_normal')(c2)\n",
    "    p2 = MaxPooling2D((2, 2))(c2)\n",
    "\n",
    "    c3 = Conv2D(256, (3, 3), activation='relu', padding='same', kernel_initializer='he_normal')(p2)\n",
    "    c3 = Dropout(0.2)(c3)\n",
    "    c3 = Conv2D(256, (3, 3), activation='relu', padding='same', kernel_initializer='he_normal')(c3)\n",
    "    p3 = MaxPooling2D((2, 2))(c3)\n",
    "\n",
    "    c4 = Conv2D(512, (3, 3), activation='relu', padding='same', kernel_initializer='he_normal')(p3)\n",
    "    c4 = Dropout(0.2)(c4)\n",
    "    c4 = Conv2D(512, (3, 3), activation='relu', padding='same', kernel_initializer='he_normal')(c4)\n",
    "    p4 = MaxPooling2D((2, 2))(c4)\n",
    "\n",
    "    # Bottleneck\n",
    "    c5 = Conv2D(1024, (3, 3), activation='relu', padding='same', kernel_initializer='he_normal')(p4)\n",
    "    c5 = Dropout(0.3)(c5)\n",
    "    c5 = Conv2D(1024, (3, 3), activation='relu', padding='same', kernel_initializer='he_normal')(c5)\n",
    "\n",
    "    # Expansive path\n",
    "    u6 = UpSampling2D((2, 2))(c5)\n",
    "    u6 = concatenate([u6, c4])\n",
    "    c6 = Conv2D(512, (3, 3), activation='relu', padding='same', kernel_initializer='he_normal')(u6)\n",
    "    c6 = Dropout(0.2)(c6)\n",
    "    c6 = Conv2D(512, (3, 3), activation='relu', padding='same', kernel_initializer='he_normal')(c6)\n",
    "\n",
    "    u7 = UpSampling2D((2, 2))(c6)\n",
    "    u7 = concatenate([u7, c3])\n",
    "    c7 = Conv2D(256, (3, 3), activation='relu', padding='same', kernel_initializer='he_normal')(u7)\n",
    "    c7 = Dropout(0.2)(c7)\n",
    "    c7 = Conv2D(256, (3, 3), activation='relu', padding='same', kernel_initializer='he_normal')(c7)\n",
    "\n",
    "    u8 = UpSampling2D((2, 2))(c7)\n",
    "    u8 = concatenate([u8, c2])\n",
    "    c8 = Conv2D(128, (3, 3), activation='relu', padding='same', kernel_initializer='he_normal')(u8)\n",
    "    c8 = Dropout(0.1)(c8)\n",
    "    c8 = Conv2D(128, (3, 3), activation='relu', padding='same', kernel_initializer='he_normal')(c8)\n",
    "\n",
    "    u9 = UpSampling2D((2, 2))(c8)\n",
    "    u9 = concatenate([u9, c1])\n",
    "    c9 = Conv2D(64, (3, 3), activation='relu', padding='same', kernel_initializer='he_normal')(u9)\n",
    "    c9 = Dropout(0.1)(c9)\n",
    "    c9 = Conv2D(64, (3, 3), activation='relu', padding='same', kernel_initializer='he_normal')(c9)\n",
    "\n",
    "    outputs = Conv2D(1, (1, 1), activation='sigmoid', kernel_initializer='he_normal')(c9)\n",
    "\n",
    "    model = Model(inputs, outputs)\n",
    "    model.compile(optimizer=Adam(learning_rate=0.001), \n",
    "                  loss=\"binary_crossentropy\", \n",
    "                  metrics=[\"accuracy\", f1])\n",
    "    return model"
   ]
  },
  {
   "cell_type": "code",
   "execution_count": 8,
   "metadata": {},
   "outputs": [
    {
     "name": "stderr",
     "output_type": "stream",
     "text": [
      "2025-01-22 14:15:58.629279: W tensorflow/core/common_runtime/gpu/gpu_bfc_allocator.cc:47] Overriding orig_value setting because the TF_FORCE_GPU_ALLOW_GROWTH environment variable is set. Original config value was 0.\n",
      "2025-01-22 14:15:58.629660: I tensorflow/core/common_runtime/gpu/gpu_device.cc:1929] Created device /job:localhost/replica:0/task:0/device:GPU:0 with 46339 MB memory:  -> device: 0, name: NVIDIA RTX A6000, pci bus id: 0000:25:00.0, compute capability: 8.6\n"
     ]
    },
    {
     "name": "stdout",
     "output_type": "stream",
     "text": [
      "Model: \"model\"\n",
      "__________________________________________________________________________________________________\n",
      " Layer (type)                Output Shape                 Param #   Connected to                  \n",
      "==================================================================================================\n",
      " input_1 (InputLayer)        [(None, 128, 128, 3)]        0         []                            \n",
      "                                                                                                  \n",
      " conv2d (Conv2D)             (None, 128, 128, 64)         1792      ['input_1[0][0]']             \n",
      "                                                                                                  \n",
      " dropout (Dropout)           (None, 128, 128, 64)         0         ['conv2d[0][0]']              \n",
      "                                                                                                  \n",
      " conv2d_1 (Conv2D)           (None, 128, 128, 64)         36928     ['dropout[0][0]']             \n",
      "                                                                                                  \n",
      " max_pooling2d (MaxPooling2  (None, 64, 64, 64)           0         ['conv2d_1[0][0]']            \n",
      " D)                                                                                               \n",
      "                                                                                                  \n",
      " conv2d_2 (Conv2D)           (None, 64, 64, 128)          73856     ['max_pooling2d[0][0]']       \n",
      "                                                                                                  \n",
      " dropout_1 (Dropout)         (None, 64, 64, 128)          0         ['conv2d_2[0][0]']            \n",
      "                                                                                                  \n",
      " conv2d_3 (Conv2D)           (None, 64, 64, 128)          147584    ['dropout_1[0][0]']           \n",
      "                                                                                                  \n",
      " max_pooling2d_1 (MaxPoolin  (None, 32, 32, 128)          0         ['conv2d_3[0][0]']            \n",
      " g2D)                                                                                             \n",
      "                                                                                                  \n",
      " conv2d_4 (Conv2D)           (None, 32, 32, 256)          295168    ['max_pooling2d_1[0][0]']     \n",
      "                                                                                                  \n",
      " dropout_2 (Dropout)         (None, 32, 32, 256)          0         ['conv2d_4[0][0]']            \n",
      "                                                                                                  \n",
      " conv2d_5 (Conv2D)           (None, 32, 32, 256)          590080    ['dropout_2[0][0]']           \n",
      "                                                                                                  \n",
      " max_pooling2d_2 (MaxPoolin  (None, 16, 16, 256)          0         ['conv2d_5[0][0]']            \n",
      " g2D)                                                                                             \n",
      "                                                                                                  \n",
      " conv2d_6 (Conv2D)           (None, 16, 16, 512)          1180160   ['max_pooling2d_2[0][0]']     \n",
      "                                                                                                  \n",
      " dropout_3 (Dropout)         (None, 16, 16, 512)          0         ['conv2d_6[0][0]']            \n",
      "                                                                                                  \n",
      " conv2d_7 (Conv2D)           (None, 16, 16, 512)          2359808   ['dropout_3[0][0]']           \n",
      "                                                                                                  \n",
      " max_pooling2d_3 (MaxPoolin  (None, 8, 8, 512)            0         ['conv2d_7[0][0]']            \n",
      " g2D)                                                                                             \n",
      "                                                                                                  \n",
      " conv2d_8 (Conv2D)           (None, 8, 8, 1024)           4719616   ['max_pooling2d_3[0][0]']     \n",
      "                                                                                                  \n",
      " dropout_4 (Dropout)         (None, 8, 8, 1024)           0         ['conv2d_8[0][0]']            \n",
      "                                                                                                  \n",
      " conv2d_9 (Conv2D)           (None, 8, 8, 1024)           9438208   ['dropout_4[0][0]']           \n",
      "                                                                                                  \n",
      " up_sampling2d (UpSampling2  (None, 16, 16, 1024)         0         ['conv2d_9[0][0]']            \n",
      " D)                                                                                               \n",
      "                                                                                                  \n",
      " concatenate (Concatenate)   (None, 16, 16, 1536)         0         ['up_sampling2d[0][0]',       \n",
      "                                                                     'conv2d_7[0][0]']            \n",
      "                                                                                                  \n",
      " conv2d_10 (Conv2D)          (None, 16, 16, 512)          7078400   ['concatenate[0][0]']         \n",
      "                                                                                                  \n",
      " dropout_5 (Dropout)         (None, 16, 16, 512)          0         ['conv2d_10[0][0]']           \n",
      "                                                                                                  \n",
      " conv2d_11 (Conv2D)          (None, 16, 16, 512)          2359808   ['dropout_5[0][0]']           \n",
      "                                                                                                  \n",
      " up_sampling2d_1 (UpSamplin  (None, 32, 32, 512)          0         ['conv2d_11[0][0]']           \n",
      " g2D)                                                                                             \n",
      "                                                                                                  \n",
      " concatenate_1 (Concatenate  (None, 32, 32, 768)          0         ['up_sampling2d_1[0][0]',     \n",
      " )                                                                   'conv2d_5[0][0]']            \n",
      "                                                                                                  \n",
      " conv2d_12 (Conv2D)          (None, 32, 32, 256)          1769728   ['concatenate_1[0][0]']       \n",
      "                                                                                                  \n",
      " dropout_6 (Dropout)         (None, 32, 32, 256)          0         ['conv2d_12[0][0]']           \n",
      "                                                                                                  \n",
      " conv2d_13 (Conv2D)          (None, 32, 32, 256)          590080    ['dropout_6[0][0]']           \n",
      "                                                                                                  \n",
      " up_sampling2d_2 (UpSamplin  (None, 64, 64, 256)          0         ['conv2d_13[0][0]']           \n",
      " g2D)                                                                                             \n",
      "                                                                                                  \n",
      " concatenate_2 (Concatenate  (None, 64, 64, 384)          0         ['up_sampling2d_2[0][0]',     \n",
      " )                                                                   'conv2d_3[0][0]']            \n",
      "                                                                                                  \n",
      " conv2d_14 (Conv2D)          (None, 64, 64, 128)          442496    ['concatenate_2[0][0]']       \n",
      "                                                                                                  \n",
      " dropout_7 (Dropout)         (None, 64, 64, 128)          0         ['conv2d_14[0][0]']           \n",
      "                                                                                                  \n",
      " conv2d_15 (Conv2D)          (None, 64, 64, 128)          147584    ['dropout_7[0][0]']           \n",
      "                                                                                                  \n",
      " up_sampling2d_3 (UpSamplin  (None, 128, 128, 128)        0         ['conv2d_15[0][0]']           \n",
      " g2D)                                                                                             \n",
      "                                                                                                  \n",
      " concatenate_3 (Concatenate  (None, 128, 128, 192)        0         ['up_sampling2d_3[0][0]',     \n",
      " )                                                                   'conv2d_1[0][0]']            \n",
      "                                                                                                  \n",
      " conv2d_16 (Conv2D)          (None, 128, 128, 64)         110656    ['concatenate_3[0][0]']       \n",
      "                                                                                                  \n",
      " dropout_8 (Dropout)         (None, 128, 128, 64)         0         ['conv2d_16[0][0]']           \n",
      "                                                                                                  \n",
      " conv2d_17 (Conv2D)          (None, 128, 128, 64)         36928     ['dropout_8[0][0]']           \n",
      "                                                                                                  \n",
      " conv2d_18 (Conv2D)          (None, 128, 128, 1)          65        ['conv2d_17[0][0]']           \n",
      "                                                                                                  \n",
      "==================================================================================================\n",
      "Total params: 31378945 (119.70 MB)\n",
      "Trainable params: 31378945 (119.70 MB)\n",
      "Non-trainable params: 0 (0.00 Byte)\n",
      "__________________________________________________________________________________________________\n"
     ]
    }
   ],
   "source": [
    "# Build U-Net\n",
    "# REQUIREMENT: Model summary must be visible\n",
    "IMG_HEIGHT = patch_size\n",
    "IMG_WIDTH = patch_size\n",
    "IMG_CHANNELS = 3\n",
    "model = simple_unet_model(IMG_HEIGHT, IMG_WIDTH, IMG_CHANNELS)\n",
    "model.summary()"
   ]
  },
  {
   "cell_type": "code",
   "execution_count": 9,
   "metadata": {},
   "outputs": [
    {
     "name": "stdout",
     "output_type": "stream",
     "text": [
      "Found 19392 images belonging to 1 classes.\n",
      "Found 19392 images belonging to 1 classes.\n"
     ]
    }
   ],
   "source": [
    "# Step 1: Setup a generator for training\n",
    "batch_size = 64\n",
    "train_image_gen = ImageDataGenerator(rescale=1./255)\n",
    "train_mask_gen = ImageDataGenerator()\n",
    "\n",
    "train_image_generator = train_image_gen.flow_from_directory(\n",
    "    os.path.join(patch_dir, 'train_images'),\n",
    "    target_size=(patch_size, patch_size),\n",
    "    batch_size=batch_size,\n",
    "    class_mode=None,  # Images only\n",
    "    color_mode='rgb',  # For images\n",
    "    seed=42\n",
    ")\n",
    "\n",
    "train_mask_generator = train_mask_gen.flow_from_directory(\n",
    "    os.path.join(patch_dir, 'train_masks'),\n",
    "    target_size=(patch_size, patch_size),\n",
    "    batch_size=64,\n",
    "    class_mode=None,  # Masks only\n",
    "    color_mode='grayscale',  # For masks\n",
    "    seed=42\n",
    ")\n",
    "\n",
    "# Combine generators\n",
    "def train_generator():\n",
    "    for img, mask in zip(train_image_generator, train_mask_generator):\n",
    "        yield img, mask\n",
    "\n",
    "\n"
   ]
  },
  {
   "cell_type": "code",
   "execution_count": 10,
   "metadata": {},
   "outputs": [
    {
     "name": "stdout",
     "output_type": "stream",
     "text": [
      "Found 2880 images belonging to 1 classes.\n",
      "Found 2880 images belonging to 1 classes.\n"
     ]
    }
   ],
   "source": [
    "# Setup a generator for validation\n",
    "# Step 2: Setup a generator for validation\n",
    "val_image_gen = ImageDataGenerator(rescale=1./255)\n",
    "val_mask_gen = ImageDataGenerator()\n",
    "\n",
    "val_image_generator = val_image_gen.flow_from_directory(\n",
    "    os.path.join(patch_dir, 'val_images'),\n",
    "    target_size=(patch_size, patch_size),\n",
    "    batch_size=batch_size,\n",
    "    class_mode=None,  # Images only\n",
    "    color_mode='rgb',  # For images\n",
    "    seed=42\n",
    ")\n",
    "\n",
    "val_mask_generator = val_mask_gen.flow_from_directory(\n",
    "    os.path.join(patch_dir, 'val_masks'),\n",
    "    target_size=(patch_size, patch_size),\n",
    "    batch_size=batch_size,\n",
    "    class_mode=None,  # Masks only\n",
    "    color_mode='grayscale',  # For masks\n",
    "    seed=42\n",
    ")\n",
    "\n",
    "# Combine generators\n",
    "def val_generator():\n",
    "    for img, mask in zip(val_image_generator, val_mask_generator):\n",
    "        yield img, mask"
   ]
  },
  {
   "cell_type": "code",
   "execution_count": 11,
   "metadata": {},
   "outputs": [
    {
     "name": "stdout",
     "output_type": "stream",
     "text": [
      "Image batch shape: (64, 128, 128, 3)\n",
      "Mask batch shape: (64, 128, 128, 1)\n"
     ]
    }
   ],
   "source": [
    "for img_batch, mask_batch in train_generator():\n",
    "    print(f\"Image batch shape: {img_batch.shape}\")\n",
    "    print(f\"Mask batch shape: {mask_batch.shape}\")\n",
    "    break\n"
   ]
  },
  {
   "cell_type": "code",
   "execution_count": 12,
   "metadata": {},
   "outputs": [
    {
     "name": "stdout",
     "output_type": "stream",
     "text": [
      "Image batch shape: (64, 128, 128, 3)\n",
      "Mask batch shape: (64, 128, 128, 1)\n",
      "Sample mask unique values: [0. 1.]\n"
     ]
    }
   ],
   "source": [
    "for img_batch, mask_batch in train_generator():\n",
    "    print(f\"Image batch shape: {img_batch.shape}\")\n",
    "    print(f\"Mask batch shape: {mask_batch.shape}\")\n",
    "    print(f\"Sample mask unique values: {np.unique(mask_batch)}\")\n",
    "    break\n"
   ]
  },
  {
   "cell_type": "code",
   "execution_count": 13,
   "metadata": {},
   "outputs": [],
   "source": [
    "# EarlyStopping()\n",
    "from keras.callbacks import EarlyStopping\n",
    "# Step 2: Setup EarlyStopping Callback\n",
    "cb = EarlyStopping(monitor='val_loss', patience=3, restore_best_weights=True)"
   ]
  },
  {
   "cell_type": "code",
   "execution_count": 14,
   "metadata": {},
   "outputs": [
    {
     "name": "stdout",
     "output_type": "stream",
     "text": [
      "Total training images: 19392\n",
      "Total training masks: 19392\n",
      "Total validation images: 2880\n",
      "Total validation masks: 2880\n"
     ]
    }
   ],
   "source": [
    "import os\n",
    "\n",
    "def count_files_in_dir(directory):\n",
    "    \"\"\"Count the number of files in a directory.\"\"\"\n",
    "    return len([f for f in os.listdir(directory) if os.path.isfile(os.path.join(directory, f))])\n",
    "\n",
    "# Paths to your datasets\n",
    "train_images_dir = \"dataset/train_images/train\"\n",
    "train_masks_dir = \"dataset/train_masks/train\"\n",
    "val_images_dir = \"dataset/val_images/val\"\n",
    "val_masks_dir = \"dataset/val_masks/val\"\n",
    "\n",
    "# Count files\n",
    "train_images_count = count_files_in_dir(train_images_dir)\n",
    "train_masks_count = count_files_in_dir(train_masks_dir)\n",
    "val_images_count = count_files_in_dir(val_images_dir)\n",
    "val_masks_count = count_files_in_dir(val_masks_dir)\n",
    "\n",
    "# Print results\n",
    "print(f\"Total training images: {train_images_count}\")\n",
    "print(f\"Total training masks: {train_masks_count}\")\n",
    "print(f\"Total validation images: {val_images_count}\")\n",
    "print(f\"Total validation masks: {val_masks_count}\")\n"
   ]
  },
  {
   "cell_type": "code",
   "execution_count": 15,
   "metadata": {},
   "outputs": [
    {
     "name": "stdout",
     "output_type": "stream",
     "text": [
      "19392\n",
      "2880\n"
     ]
    }
   ],
   "source": [
    "print(train_image_generator.samples)\n",
    "print(val_image_generator.samples)"
   ]
  },
  {
   "cell_type": "code",
   "execution_count": 16,
   "metadata": {
    "scrolled": true
   },
   "outputs": [
    {
     "name": "stdout",
     "output_type": "stream",
     "text": [
      "Epoch 1/50\n"
     ]
    },
    {
     "name": "stderr",
     "output_type": "stream",
     "text": [
      "2025-01-22 14:16:02.845046: E tensorflow/core/grappler/optimizers/meta_optimizer.cc:961] layout failed: INVALID_ARGUMENT: Size of values 0 does not match size of permutation 4 @ fanin shape inmodel/dropout/dropout/SelectV2-2-TransposeNHWCToNCHW-LayoutOptimizer\n",
      "2025-01-22 14:16:03.204216: I external/local_xla/xla/stream_executor/cuda/cuda_dnn.cc:454] Loaded cuDNN version 8906\n",
      "2025-01-22 14:16:07.116574: I external/local_xla/xla/service/service.cc:168] XLA service 0x7f83c8870140 initialized for platform CUDA (this does not guarantee that XLA will be used). Devices:\n",
      "2025-01-22 14:16:07.116607: I external/local_xla/xla/service/service.cc:176]   StreamExecutor device (0): NVIDIA RTX A6000, Compute Capability 8.6\n",
      "2025-01-22 14:16:07.125101: I tensorflow/compiler/mlir/tensorflow/utils/dump_mlir_util.cc:269] disabling MLIR crash reproducer, set env var `MLIR_CRASH_REPRODUCER_DIRECTORY` to enable.\n",
      "WARNING: All log messages before absl::InitializeLog() is called are written to STDERR\n",
      "I0000 00:00:1737555367.254382     915 device_compiler.h:186] Compiled cluster using XLA!  This line is logged at most once for the lifetime of the process.\n"
     ]
    },
    {
     "name": "stdout",
     "output_type": "stream",
     "text": [
      "303/303 [==============================] - 85s 209ms/step - loss: 0.6152 - accuracy: 0.9926 - f1: 0.1642 - val_loss: 0.0120 - val_accuracy: 0.9969 - val_f1: 0.4972\n",
      "Epoch 2/50\n",
      "303/303 [==============================] - 63s 209ms/step - loss: 0.0160 - accuracy: 0.9959 - f1: 0.4982 - val_loss: 0.0120 - val_accuracy: 0.9970 - val_f1: 0.4403\n",
      "Epoch 3/50\n",
      "303/303 [==============================] - 64s 210ms/step - loss: 0.0109 - accuracy: 0.9966 - f1: 0.6351 - val_loss: 0.0105 - val_accuracy: 0.9971 - val_f1: 0.5630\n",
      "Epoch 4/50\n",
      "303/303 [==============================] - 64s 211ms/step - loss: 0.0093 - accuracy: 0.9969 - f1: 0.6780 - val_loss: 0.0078 - val_accuracy: 0.9978 - val_f1: 0.5900\n",
      "Epoch 5/50\n",
      "303/303 [==============================] - 64s 210ms/step - loss: 0.0080 - accuracy: 0.9972 - f1: 0.7162 - val_loss: 0.0068 - val_accuracy: 0.9978 - val_f1: 0.6815\n",
      "Epoch 6/50\n",
      "303/303 [==============================] - 64s 210ms/step - loss: 0.0075 - accuracy: 0.9973 - f1: 0.7297 - val_loss: 0.0059 - val_accuracy: 0.9981 - val_f1: 0.7413\n",
      "Epoch 7/50\n",
      "303/303 [==============================] - 64s 210ms/step - loss: 0.0069 - accuracy: 0.9974 - f1: 0.7459 - val_loss: 0.0058 - val_accuracy: 0.9980 - val_f1: 0.7234\n",
      "Epoch 8/50\n",
      "303/303 [==============================] - 63s 210ms/step - loss: 0.0066 - accuracy: 0.9975 - f1: 0.7557 - val_loss: 0.0062 - val_accuracy: 0.9981 - val_f1: 0.7524\n",
      "Epoch 9/50\n",
      "303/303 [==============================] - 64s 210ms/step - loss: 0.0063 - accuracy: 0.9976 - f1: 0.7646 - val_loss: 0.0051 - val_accuracy: 0.9983 - val_f1: 0.7476\n",
      "Epoch 10/50\n",
      "303/303 [==============================] - 64s 211ms/step - loss: 0.0062 - accuracy: 0.9976 - f1: 0.7676 - val_loss: 0.0041 - val_accuracy: 0.9984 - val_f1: 0.7928\n",
      "Epoch 11/50\n",
      "303/303 [==============================] - 64s 210ms/step - loss: 0.0060 - accuracy: 0.9977 - f1: 0.7734 - val_loss: 0.0054 - val_accuracy: 0.9980 - val_f1: 0.7571\n",
      "Epoch 12/50\n",
      "303/303 [==============================] - 64s 210ms/step - loss: 0.0058 - accuracy: 0.9977 - f1: 0.7796 - val_loss: 0.0046 - val_accuracy: 0.9983 - val_f1: 0.7736\n",
      "Epoch 13/50\n",
      "303/303 [==============================] - 64s 210ms/step - loss: 0.0059 - accuracy: 0.9977 - f1: 0.7762 - val_loss: 0.0042 - val_accuracy: 0.9984 - val_f1: 0.7937\n"
     ]
    }
   ],
   "source": [
    "# This is where the magic happens\n",
    "# REQUIREMENT: The epoch logs must be visible showing validation loss and validation f1.\n",
    "# Step 3: Train the Model\n",
    "history = model.fit(\n",
    "    train_generator(),\n",
    "    validation_data=val_generator(),\n",
    "    epochs=50,\n",
    "    steps_per_epoch= math.ceil(train_image_generator.samples / batch_size),  # Adjust this based on the size of training patches\n",
    "    validation_steps= math.ceil(val_image_generator.samples / batch_size),  # Adjust this based on the size of validation patches\n",
    "    callbacks=[cb]\n",
    ")\n"
   ]
  },
  {
   "cell_type": "code",
   "execution_count": null,
   "metadata": {},
   "outputs": [
    {
     "name": "stdout",
     "output_type": "stream",
     "text": [
      "dominik_230623_unet_model_128px.h5\n"
     ]
    },
    {
     "name": "stderr",
     "output_type": "stream",
     "text": [
      "/usr/local/lib/python3.11/dist-packages/keras/src/engine/training.py:3103: UserWarning: You are saving your model as an HDF5 file via `model.save()`. This file format is considered legacy. We recommend using instead the native Keras format, e.g. `model.save('my_model.keras')`.\n",
      "  saving_api.save_model(\n"
     ]
    }
   ],
   "source": [
    "# REQUIREMENT: Save your model, it is a deliverable\n",
    "# REQUIREMENT: naming convention 'studentname_studentnumber_unet_model_patchsizepx.h5'\n",
    "example_file_name = f'unet_model_{patch_size}px.h5'\n",
    "print(example_file_name)\n",
    "model.save(example_file_name)"
   ]
  },
  {
   "cell_type": "code",
   "execution_count": 18,
   "metadata": {},
   "outputs": [
    {
     "name": "stdout",
     "output_type": "stream",
     "text": [
      "Best validation loss: 0.0040789381600916386\n",
      "Best validation f1: 0.7937424778938293\n"
     ]
    }
   ],
   "source": [
    "# REQUIREMENT: Run and display the output of this cell.\n",
    "# REQUIREMENT: Do not change the code.\n",
    "best_val_loss = min(history.history['val_loss'])\n",
    "best_val_f1 = max(history.history['val_f1'])\n",
    "print(f\"Best validation loss: {best_val_loss}\")\n",
    "print(f\"Best validation f1: {best_val_f1}\")"
   ]
  },
  {
   "cell_type": "code",
   "execution_count": 19,
   "metadata": {},
   "outputs": [
    {
     "data": {
      "image/png": "[encoded data removed]",
      "text/plain": [
       "<Figure size 640x480 with 1 Axes>"
      ]
     },
     "metadata": {},
     "output_type": "display_data"
    }
   ],
   "source": [
    "# REQUIREMENT: Run and display the output of this cell.\n",
    "# REQUIREMENT: Do not change the code.\n",
    "loss = history.history['loss']\n",
    "val_loss = history.history['val_loss']\n",
    "\n",
    "epochs = np.arange(1, len(loss) + 1)\n",
    "\n",
    "plt.plot(epochs, loss, label='train_loss')\n",
    "plt.plot(epochs, val_loss, label='val_loss')\n",
    "plt.legend()\n",
    "plt.xlabel('Epoch')\n",
    "plt.ylabel('Loss (binary_crossentropy)')\n",
    "_ = plt.xticks(np.arange(1, len(loss) + 1, 3))"
   ]
  },
  {
   "cell_type": "code",
   "execution_count": 20,
   "metadata": {},
   "outputs": [
    {
     "data": {
      "image/png": "[encoded data removed]",
      "text/plain": [
       "<Figure size 640x480 with 1 Axes>"
      ]
     },
     "metadata": {},
     "output_type": "display_data"
    }
   ],
   "source": [
    "# REQUIREMENT: Run and display the output of this cell.\n",
    "# REQUIREMENT: Do not change the code.\n",
    "train_f1 = history.history['f1']\n",
    "val_f1 = history.history['val_f1']\n",
    "\n",
    "epochs = np.arange(1, len(train_f1) + 1)\n",
    "\n",
    "plt.plot(epochs, train_f1, label='train_f1')\n",
    "plt.plot(epochs, val_f1, label='val_f1')\n",
    "plt.legend()\n",
    "plt.xlabel('Epoch')\n",
    "plt.ylabel('F1')\n",
    "_ = plt.xticks(np.arange(1, len(loss) + 1, 3))"
   ]
  },
  {
   "cell_type": "code",
   "execution_count": null,
   "metadata": {},
   "outputs": [],
   "source": []
  }
 ],
 "metadata": {
  "kernelspec": {
   "display_name": "Python 3 (ipykernel)",
   "language": "python",
   "name": "python3"
  },
  "language_info": {
   "codemirror_mode": {
    "name": "ipython",
    "version": 3
   },
   "file_extension": ".py",
   "mimetype": "text/x-python",
   "name": "python",
   "nbconvert_exporter": "python",
   "pygments_lexer": "ipython3",
   "version": "3.11.0rc1"
  }
 },
 "nbformat": 4,
 "nbformat_minor": 4
}
